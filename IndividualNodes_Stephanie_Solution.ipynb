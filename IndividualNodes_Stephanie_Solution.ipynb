{
 "cells": [
  {
   "cell_type": "code",
   "execution_count": 1,
   "id": "8bb7c258-e59b-484b-9110-8d5cf63dd89e",
   "metadata": {},
   "outputs": [],
   "source": [
    "import getpass\n",
    "import pandas as pd\n",
    "import numpy as np\n",
    "import urllib.parse\n",
    "import plotly.graph_objects as go\n",
    "from plotly.subplots import make_subplots\n",
    "from IPython.display import Markdown as md\n",
    "\n",
    "from shapely import wkb\n",
    "from scipy.spatial import distance_matrix\n",
    "from pulp import LpProblem, LpMinimize, LpVariable, lpSum, LpBinary, value\n",
    "import cvxpy as cp\n",
    "\n",
    "pd.set_option('display.max_columns', None)"
   ]
  },
  {
   "cell_type": "code",
   "execution_count": 2,
   "id": "62840af6-8b1b-4bac-b867-a21c99ba6866",
   "metadata": {},
   "outputs": [
    {
     "name": "stdin",
     "output_type": "stream",
     "text": [
      "EDM server address:  ········\n"
     ]
    },
    {
     "name": "stdout",
     "output_type": "stream",
     "text": [
      "\n",
      "EDM login information\n"
     ]
    },
    {
     "name": "stdin",
     "output_type": "stream",
     "text": [
      "Username:  ········\n",
      "Password:  ········\n"
     ]
    }
   ],
   "source": [
    "edm_address = getpass.getpass(prompt='EDM server address: ')\n",
    "\n",
    "print('\\nEDM login information')\n",
    "edm_name = getpass.getpass(prompt='Username: ')\n",
    "edm_password = getpass.getpass(prompt='Password: ')\n",
    "edm_password = urllib.parse.quote(edm_password)\n",
    "\n",
    "%load_ext sql\n",
    "%sql postgresql://$edm_name:$edm_password@$edm_address/edm\n",
    "%config SqlMagic.displaycon = False\n",
    "%config SqlMagic.feedback = False\n",
    "\n",
    "# Delete the credential variables for security purpose.\n",
    "del edm_name, edm_password"
   ]
  },
  {
   "cell_type": "code",
   "execution_count": 3,
   "id": "735c48fe-8cc5-4d94-814c-499fce1524c0",
   "metadata": {},
   "outputs": [
    {
     "name": "stdin",
     "output_type": "stream",
     "text": [
      "Enter grid ID:  awefice\n"
     ]
    }
   ],
   "source": [
    "# User input for the grid.\n",
    "grid_id = input('Enter grid ID: ') # awefice"
   ]
  },
  {
   "cell_type": "code",
   "execution_count": 6,
   "id": "1a815f99-b7a5-4c80-8b82-9bae2fa64537",
   "metadata": {},
   "outputs": [
    {
     "data": {
      "text/html": [
       "<div>\n",
       "<style scoped>\n",
       "    .dataframe tbody tr th:only-of-type {\n",
       "        vertical-align: middle;\n",
       "    }\n",
       "\n",
       "    .dataframe tbody tr th {\n",
       "        vertical-align: top;\n",
       "    }\n",
       "\n",
       "    .dataframe thead th {\n",
       "        text-align: right;\n",
       "    }\n",
       "</style>\n",
       "<table border=\"1\" class=\"dataframe\">\n",
       "  <thead>\n",
       "    <tr style=\"text-align: right;\">\n",
       "      <th></th>\n",
       "      <th>is_producer</th>\n",
       "      <th>x</th>\n",
       "      <th>y</th>\n",
       "    </tr>\n",
       "    <tr>\n",
       "      <th>grid_element_id</th>\n",
       "      <th></th>\n",
       "      <th></th>\n",
       "      <th></th>\n",
       "    </tr>\n",
       "  </thead>\n",
       "  <tbody>\n",
       "    <tr>\n",
       "      <th>transformer_16</th>\n",
       "      <td>False</td>\n",
       "      <td>-123.105657</td>\n",
       "      <td>49.267374</td>\n",
       "    </tr>\n",
       "    <tr>\n",
       "      <th>transformer_2</th>\n",
       "      <td>True</td>\n",
       "      <td>-123.107138</td>\n",
       "      <td>49.267564</td>\n",
       "    </tr>\n",
       "    <tr>\n",
       "      <th>transformer_26</th>\n",
       "      <td>False</td>\n",
       "      <td>-123.103674</td>\n",
       "      <td>49.267342</td>\n",
       "    </tr>\n",
       "    <tr>\n",
       "      <th>transformer_31</th>\n",
       "      <td>False</td>\n",
       "      <td>-123.105698</td>\n",
       "      <td>49.266959</td>\n",
       "    </tr>\n",
       "    <tr>\n",
       "      <th>transformer_36</th>\n",
       "      <td>False</td>\n",
       "      <td>-123.103687</td>\n",
       "      <td>49.266931</td>\n",
       "    </tr>\n",
       "    <tr>\n",
       "      <th>transformer_43</th>\n",
       "      <td>False</td>\n",
       "      <td>-123.101561</td>\n",
       "      <td>49.267313</td>\n",
       "    </tr>\n",
       "    <tr>\n",
       "      <th>transformer_47</th>\n",
       "      <td>False</td>\n",
       "      <td>-123.102840</td>\n",
       "      <td>49.266728</td>\n",
       "    </tr>\n",
       "    <tr>\n",
       "      <th>transformer_6</th>\n",
       "      <td>True</td>\n",
       "      <td>-123.107136</td>\n",
       "      <td>49.267694</td>\n",
       "    </tr>\n",
       "    <tr>\n",
       "      <th>transformer_63</th>\n",
       "      <td>False</td>\n",
       "      <td>-123.104694</td>\n",
       "      <td>49.268323</td>\n",
       "    </tr>\n",
       "    <tr>\n",
       "      <th>transformer_92</th>\n",
       "      <td>False</td>\n",
       "      <td>-123.102730</td>\n",
       "      <td>49.268291</td>\n",
       "    </tr>\n",
       "  </tbody>\n",
       "</table>\n",
       "</div>"
      ],
      "text/plain": [
       "                 is_producer           x          y\n",
       "grid_element_id                                    \n",
       "transformer_16         False -123.105657  49.267374\n",
       "transformer_2           True -123.107138  49.267564\n",
       "transformer_26         False -123.103674  49.267342\n",
       "transformer_31         False -123.105698  49.266959\n",
       "transformer_36         False -123.103687  49.266931\n",
       "transformer_43         False -123.101561  49.267313\n",
       "transformer_47         False -123.102840  49.266728\n",
       "transformer_6           True -123.107136  49.267694\n",
       "transformer_63         False -123.104694  49.268323\n",
       "transformer_92         False -123.102730  49.268291"
      ]
     },
     "execution_count": 6,
     "metadata": {},
     "output_type": "execute_result"
    }
   ],
   "source": [
    "result = %sql SELECT grid_element_id, \\\n",
    "                        meta, \\\n",
    "                        is_producer, \\\n",
    "                        geometry, \\\n",
    "                        phases\\\n",
    "                FROM grid_element\\\n",
    "                WHERE grid_id = '{grid_id}'\\\n",
    "                    AND type = 'Transformer';\n",
    "\n",
    "# Convert the results to a data frame.\n",
    "df_transformers = result.DataFrame()\n",
    "\n",
    "# Pull out the information from `meta` column saved as JSONB.\n",
    "df_transformers = pd.concat([df_transformers.drop(['meta'], axis=1),\n",
    "                             df_transformers['meta'].apply(pd.Series)], axis=1)\n",
    "\n",
    "# Choose the relevant columns to display transformers. \n",
    "df_transformers = df_transformers[['grid_element_id', 'ownership', 'rating_kva', \n",
    "                                   'phases', 'voltage_level', 'commission_date', \n",
    "                                   'primary_voltage', 'secondary_voltage','is_producer','geometry']]\n",
    "\n",
    "# Display the results.\n",
    "df_transformers\n",
    "\n",
    "Transformers_info = df_transformers[['grid_element_id','is_producer', 'geometry']].set_index('grid_element_id')\n",
    "Transformers_info['geometry'] = Transformers_info['geometry'].apply(lambda x: wkb.loads(x, hex=True)) \n",
    "Transformers_info['x'] = Transformers_info['geometry'].apply(lambda geom: geom.x)\n",
    "Transformers_info['y'] = Transformers_info['geometry'].apply(lambda geom: geom.y)\n",
    "Transformers_info = Transformers_info.drop(['geometry'], axis=1)\n",
    "Transformers_info"
   ]
  },
  {
   "cell_type": "code",
   "execution_count": 8,
   "id": "92090224-b6b6-4312-a2ec-52a1a74c43ea",
   "metadata": {},
   "outputs": [
    {
     "data": {
      "text/plain": [
       "['transformer_2', 'transformer_6']"
      ]
     },
     "execution_count": 8,
     "metadata": {},
     "output_type": "execute_result"
    }
   ],
   "source": [
    "Ts_Producer = Transformers_info[Transformers_info['is_producer'] == True].index.tolist()\n",
    "Ts_Producer"
   ]
  },
  {
   "cell_type": "code",
   "execution_count": 9,
   "id": "068c618c-b29b-43e3-bed3-36382762a157",
   "metadata": {},
   "outputs": [
    {
     "data": {
      "text/plain": [
       "['transformer_16',\n",
       " 'transformer_26',\n",
       " 'transformer_31',\n",
       " 'transformer_36',\n",
       " 'transformer_43',\n",
       " 'transformer_47',\n",
       " 'transformer_63',\n",
       " 'transformer_92']"
      ]
     },
     "execution_count": 9,
     "metadata": {},
     "output_type": "execute_result"
    }
   ],
   "source": [
    "Ts_Consumer = Transformers_info[Transformers_info['is_producer'] == False].index.tolist()\n",
    "Ts_Consumer"
   ]
  },
  {
   "cell_type": "code",
   "execution_count": 10,
   "id": "7d69d53f-84b3-498e-9684-3a31fe10a576",
   "metadata": {},
   "outputs": [
    {
     "name": "stderr",
     "output_type": "stream",
     "text": [
      "C:\\Users\\puerc\\AppData\\Local\\Temp\\ipykernel_39476\\1887534556.py:23: FutureWarning: The behavior of DataFrame concatenation with empty or all-NA entries is deprecated. In a future version, this will no longer exclude empty or all-NA columns when determining the result dtypes. To retain the old behavior, exclude the relevant entries before the concat operation.\n",
      "  Exp_Load_Producer = pd.concat([Exp_Load_Producer, new_input], ignore_index=True)\n"
     ]
    },
    {
     "data": {
      "text/html": [
       "<div>\n",
       "<style scoped>\n",
       "    .dataframe tbody tr th:only-of-type {\n",
       "        vertical-align: middle;\n",
       "    }\n",
       "\n",
       "    .dataframe tbody tr th {\n",
       "        vertical-align: top;\n",
       "    }\n",
       "\n",
       "    .dataframe thead th {\n",
       "        text-align: right;\n",
       "    }\n",
       "</style>\n",
       "<table border=\"1\" class=\"dataframe\">\n",
       "  <thead>\n",
       "    <tr style=\"text-align: right;\">\n",
       "      <th></th>\n",
       "      <th>transformer_id</th>\n",
       "      <th>Load</th>\n",
       "    </tr>\n",
       "  </thead>\n",
       "  <tbody>\n",
       "    <tr>\n",
       "      <th>0</th>\n",
       "      <td>transformer_2</td>\n",
       "      <td>75.757616</td>\n",
       "    </tr>\n",
       "    <tr>\n",
       "      <th>1</th>\n",
       "      <td>transformer_6</td>\n",
       "      <td>43.201233</td>\n",
       "    </tr>\n",
       "  </tbody>\n",
       "</table>\n",
       "</div>"
      ],
      "text/plain": [
       "  transformer_id       Load\n",
       "0  transformer_2  75.757616\n",
       "1  transformer_6  43.201233"
      ]
     },
     "execution_count": 10,
     "metadata": {},
     "output_type": "execute_result"
    }
   ],
   "source": [
    "Exp_Load_Producer=pd.DataFrame(columns=[\"transformer_id\", \"Load\"])\n",
    "for index in Ts_Producer:\n",
    "    grid_element_id = index\n",
    "    result = %sql SELECT ge.grid_element_id as transformer_id, \\\n",
    "                            tdss_c.timestamp at time zone 'America/Vancouver' as timestamp, \\\n",
    "                            SUM(tdss_c.value - COALESCE(tdss_p.value, 0)) as \"total_kW\", ge.meta \\\n",
    "                    FROM grid_element ge \\\n",
    "                    JOIN grid_get_downstream('{grid_id}', ge.grid_element_id, 'false') ggd\\\n",
    "                        ON ggd.grid_id = ge.grid_id \\\n",
    "                    JOIN grid_element_data_source geds_c \\\n",
    "                        ON geds_c.grid_element_id = ggd.grid_element_id \\\n",
    "                        AND geds_c.type = 'CONSUMER' \\\n",
    "                    JOIN ts_data_source_select(geds_c.grid_element_data_source_id, 'kWh') tdss_c \\\n",
    "                        ON true \\\n",
    "                    LEFT JOIN grid_element_data_source geds_p \\\n",
    "                        ON geds_p.grid_element_id = geds_c.grid_element_id \\\n",
    "                        AND geds_p.type = 'PRODUCER' \\\n",
    "                    LEFT JOIN ts_data_source_select(geds_p.grid_element_data_source_id, 'kWh') tdss_p \\\n",
    "                        ON tdss_p.timestamp = tdss_c.timestamp \\\n",
    "                    WHERE ge.grid_element_id = '{grid_element_id}' \\\n",
    "                        AND ggd.type = 'Meter' \\\n",
    "                    GROUP BY ge.grid_element_id, tdss_c.timestamp, ge.meta \\\n",
    "                    ORDER by 2;\n",
    "    \n",
    "    # Convert the results to a data frame.\n",
    "    df_transformer_load = result.DataFrame()\n",
    "    \n",
    "    # Pull out the information from the `meta` column saved as JSONB.\n",
    "    df_transformer_load = pd.concat([df_transformer_load.drop(['meta'], axis=1),\n",
    "                                    df_transformer_load['meta'].apply(pd.Series)], axis=1)\n",
    "    \n",
    "    # Choose the relevant columns to display. \n",
    "    df_transformer_load = df_transformer_load[['transformer_id', 'total_kw']]\n",
    "    \n",
    "    # Expected load + 1.28 times sd (80% of cases) added to df\n",
    "    \n",
    "    new_input = pd.DataFrame([{\n",
    "        \"transformer_id\": index,\n",
    "        \"Load\": df_transformer_load['total_kw'].mean() + 1.28 * np.std(df_transformer_load['total_kw'])\n",
    "    }])\n",
    "    \n",
    "    Exp_Load_Producer = pd.concat([Exp_Load_Producer, new_input], ignore_index=True)\n",
    "\n",
    "Exp_Load_Producer"
   ]
  },
  {
   "cell_type": "code",
   "execution_count": 11,
   "id": "1d24aeb3-5af5-434a-bfe7-7abb9f38995d",
   "metadata": {},
   "outputs": [
    {
     "name": "stderr",
     "output_type": "stream",
     "text": [
      "C:\\Users\\puerc\\AppData\\Local\\Temp\\ipykernel_39476\\2406804298.py:23: FutureWarning: The behavior of DataFrame concatenation with empty or all-NA entries is deprecated. In a future version, this will no longer exclude empty or all-NA columns when determining the result dtypes. To retain the old behavior, exclude the relevant entries before the concat operation.\n",
      "  Exp_Load_Consumer = pd.concat([Exp_Load_Consumer, new_input], ignore_index=True)\n"
     ]
    },
    {
     "data": {
      "text/html": [
       "<div>\n",
       "<style scoped>\n",
       "    .dataframe tbody tr th:only-of-type {\n",
       "        vertical-align: middle;\n",
       "    }\n",
       "\n",
       "    .dataframe tbody tr th {\n",
       "        vertical-align: top;\n",
       "    }\n",
       "\n",
       "    .dataframe thead th {\n",
       "        text-align: right;\n",
       "    }\n",
       "</style>\n",
       "<table border=\"1\" class=\"dataframe\">\n",
       "  <thead>\n",
       "    <tr style=\"text-align: right;\">\n",
       "      <th></th>\n",
       "      <th>transformer_id</th>\n",
       "      <th>Load</th>\n",
       "    </tr>\n",
       "  </thead>\n",
       "  <tbody>\n",
       "    <tr>\n",
       "      <th>0</th>\n",
       "      <td>transformer_16</td>\n",
       "      <td>7.540082</td>\n",
       "    </tr>\n",
       "    <tr>\n",
       "      <th>1</th>\n",
       "      <td>transformer_26</td>\n",
       "      <td>6.854288</td>\n",
       "    </tr>\n",
       "    <tr>\n",
       "      <th>2</th>\n",
       "      <td>transformer_31</td>\n",
       "      <td>7.871367</td>\n",
       "    </tr>\n",
       "    <tr>\n",
       "      <th>3</th>\n",
       "      <td>transformer_36</td>\n",
       "      <td>14.515007</td>\n",
       "    </tr>\n",
       "    <tr>\n",
       "      <th>4</th>\n",
       "      <td>transformer_43</td>\n",
       "      <td>19.197438</td>\n",
       "    </tr>\n",
       "    <tr>\n",
       "      <th>5</th>\n",
       "      <td>transformer_47</td>\n",
       "      <td>33.197110</td>\n",
       "    </tr>\n",
       "    <tr>\n",
       "      <th>6</th>\n",
       "      <td>transformer_63</td>\n",
       "      <td>13.216529</td>\n",
       "    </tr>\n",
       "    <tr>\n",
       "      <th>7</th>\n",
       "      <td>transformer_92</td>\n",
       "      <td>31.795568</td>\n",
       "    </tr>\n",
       "  </tbody>\n",
       "</table>\n",
       "</div>"
      ],
      "text/plain": [
       "   transformer_id       Load\n",
       "0  transformer_16   7.540082\n",
       "1  transformer_26   6.854288\n",
       "2  transformer_31   7.871367\n",
       "3  transformer_36  14.515007\n",
       "4  transformer_43  19.197438\n",
       "5  transformer_47  33.197110\n",
       "6  transformer_63  13.216529\n",
       "7  transformer_92  31.795568"
      ]
     },
     "execution_count": 11,
     "metadata": {},
     "output_type": "execute_result"
    }
   ],
   "source": [
    "Exp_Load_Consumer=pd.DataFrame(columns=[\"transformer_id\", \"Load\"])\n",
    "for index in Ts_Consumer:\n",
    "    grid_element_id = index\n",
    "    result = %sql SELECT ge.grid_element_id as transformer_id, \\\n",
    "                            tdss_c.timestamp at time zone 'America/Vancouver' as timestamp, \\\n",
    "                            SUM(tdss_c.value - COALESCE(tdss_p.value, 0)) as \"total_kW\", ge.meta \\\n",
    "                    FROM grid_element ge \\\n",
    "                    JOIN grid_get_downstream('{grid_id}', ge.grid_element_id, 'false') ggd\\\n",
    "                        ON ggd.grid_id = ge.grid_id \\\n",
    "                    JOIN grid_element_data_source geds_c \\\n",
    "                        ON geds_c.grid_element_id = ggd.grid_element_id \\\n",
    "                        AND geds_c.type = 'CONSUMER' \\\n",
    "                    JOIN ts_data_source_select(geds_c.grid_element_data_source_id, 'kWh') tdss_c \\\n",
    "                        ON true \\\n",
    "                    LEFT JOIN grid_element_data_source geds_p \\\n",
    "                        ON geds_p.grid_element_id = geds_c.grid_element_id \\\n",
    "                        AND geds_p.type = 'PRODUCER' \\\n",
    "                    LEFT JOIN ts_data_source_select(geds_p.grid_element_data_source_id, 'kWh') tdss_p \\\n",
    "                        ON tdss_p.timestamp = tdss_c.timestamp \\\n",
    "                    WHERE ge.grid_element_id = '{grid_element_id}' \\\n",
    "                        AND ggd.type = 'Meter' \\\n",
    "                    GROUP BY ge.grid_element_id, tdss_c.timestamp, ge.meta \\\n",
    "                    ORDER by 2;\n",
    "    \n",
    "    # Convert the results to a data frame.\n",
    "    df_transformer_load = result.DataFrame()\n",
    "    \n",
    "    # Pull out the information from the `meta` column saved as JSONB.\n",
    "    df_transformer_load = pd.concat([df_transformer_load.drop(['meta'], axis=1),\n",
    "                                    df_transformer_load['meta'].apply(pd.Series)], axis=1)\n",
    "    \n",
    "    # Choose the relevant columns to display. \n",
    "    df_transformer_load = df_transformer_load[['transformer_id', 'total_kw']]\n",
    "    \n",
    "    # Expected load + 1.28 times sd (80% of cases) added to df\n",
    "    \n",
    "    new_input = pd.DataFrame([{\n",
    "        \"transformer_id\": index,\n",
    "        \"Load\": df_transformer_load['total_kw'].mean() + 1.28 * np.std(df_transformer_load['total_kw'])\n",
    "    }])\n",
    "    \n",
    "    Exp_Load_Consumer = pd.concat([Exp_Load_Consumer, new_input], ignore_index=True)\n",
    "\n",
    "Exp_Load_Consumer"
   ]
  },
  {
   "cell_type": "code",
   "execution_count": 13,
   "id": "df6f4bb9-74cd-41e4-9589-70a4e48ff9c9",
   "metadata": {},
   "outputs": [],
   "source": [
    "coords_producer = Transformers_info.loc[Transformers_info['is_producer'] == True, ['x', 'y']].to_numpy()\n",
    "coords_consumer = Transformers_info.loc[Transformers_info['is_producer'] == False, ['x', 'y']].to_numpy()"
   ]
  },
  {
   "cell_type": "code",
   "execution_count": 16,
   "id": "b1071303-ba21-4e09-84ae-c116b44fdb5c",
   "metadata": {},
   "outputs": [
    {
     "name": "stdout",
     "output_type": "stream",
     "text": [
      "Estado del problema: optimal\n",
      " transformer_16 assigned to transformer_6\n",
      " transformer_26 assigned to transformer_2\n",
      " transformer_31 assigned to transformer_2\n",
      " transformer_36 assigned to transformer_6\n",
      " transformer_43 assigned to transformer_2\n",
      " transformer_47 assigned to transformer_2\n",
      " transformer_63 assigned to transformer_6\n",
      " transformer_92 assigned to transformer_6\n",
      "Optimal Loads: [67.1202036  67.06718592]\n",
      "Total Costo: 0.01420682023893314\n"
     ]
    }
   ],
   "source": [
    "n_consumers = Exp_Load_Consumer.shape[0]\n",
    "n_generators = Exp_Load_Producer.shape[0]\n",
    "\n",
    "cons_coords = coords_consumer\n",
    "gen_coords = coords_producer\n",
    "\n",
    "demands = Exp_Load_Consumer['Load'].to_numpy()\n",
    "\n",
    "distances = np.linalg.norm(cons_coords[:, None, :] - gen_coords[None, :, :], axis=2) # Euclidean distances\n",
    "\n",
    "x = cp.Variable((n_consumers, n_generators), boolean=True) # Boolean variables\n",
    "load = cp.sum(cp.multiply(demands[:, None], x), axis=0) # Product of demand by boolean variable\n",
    "load_avg = cp.sum(load) / n_generators  # Average load attributed to producing generators\n",
    "load_variance = cp.sum_squares(load - load_avg)  # Variance of load attributed to producing generators\n",
    "total_distance = cp.sum(cp.multiply(distances, x))   # distance multiplied by boolean variable\n",
    "\n",
    "alpha = 0.5 # weight of distance\n",
    "objective = cp.Minimize(alpha * total_distance + (1 - alpha) * load_variance)\n",
    "\n",
    "constraints = [cp.sum(x[i, :]) == 1 for i in range(n_consumers)]\n",
    "\n",
    "problem = cp.Problem(objective, constraints)\n",
    "problem.solve(solver=cp.ECOS_BB)\n",
    "print(\"Estado del problema:\", problem.status)\n",
    "\n",
    "# Resultados\n",
    "df_result = pd.DataFrame(x.value, index=Ts_Consumer, columns=Ts_Producer)\n",
    "\n",
    "assignments = np.argwhere(df_result > 0.9)\n",
    "\n",
    "for i, j in assignments :\n",
    "    consumidor = df_result.index[i]\n",
    "    generador = df_result.columns[j]\n",
    "    print(f\" {consumidor} assigned to {generador}\")\n",
    "print(\"Optimal Loads:\", load.value)\n",
    "print(\"Total Costo:\", problem.value)"
   ]
  }
 ],
 "metadata": {
  "kernelspec": {
   "display_name": "Python 3 (ipykernel)",
   "language": "python",
   "name": "python3"
  },
  "language_info": {
   "codemirror_mode": {
    "name": "ipython",
    "version": 3
   },
   "file_extension": ".py",
   "mimetype": "text/x-python",
   "name": "python",
   "nbconvert_exporter": "python",
   "pygments_lexer": "ipython3",
   "version": "3.9.21"
  }
 },
 "nbformat": 4,
 "nbformat_minor": 5
}
